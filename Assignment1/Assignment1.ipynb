{
  "cells": [
    {
      "cell_type": "markdown",
      "metadata": {
        "id": "Vlc8azS9rNno"
      },
      "source": []
    },
    {
      "cell_type": "markdown",
      "metadata": {
        "id": "ijfpmpe_rObV"
      },
      "source": [
        "# Assignment1"
      ]
    },
    {
      "cell_type": "markdown",
      "metadata": {
        "id": "U7GGXS7ZrkfN"
      },
      "source": [
        "## TASK 1: DATA PREPARATION"
      ]
    },
    {
      "cell_type": "markdown",
      "metadata": {
        "id": "5Dng2JQws6qJ"
      },
      "source": [
        "### TASK 1A: EXPLORATORY DATA ANALYSIS"
      ]
    },
    {
      "cell_type": "markdown",
      "metadata": {
        "id": "LwxJ3RbqtBmJ"
      },
      "source": [
        "#### 1. Library import & Global var definition"
      ]
    },
    {
      "cell_type": "code",
      "execution_count": null,
      "metadata": {
        "colab": {
          "base_uri": "https://localhost:8080/"
        },
        "id": "N6gLXonQ0gf-",
        "outputId": "0cca704b-dae0-4bf9-aaf5-2139623774fc"
      },
      "outputs": [
        {
          "ename": "ModuleNotFoundError",
          "evalue": "No module named 'google.colab'",
          "output_type": "error",
          "traceback": [
            "\u001b[0;31m---------------------------------------------------------------------------\u001b[0m",
            "\u001b[0;31mModuleNotFoundError\u001b[0m                       Traceback (most recent call last)",
            "Cell \u001b[0;32mIn[39], line 1\u001b[0m\n\u001b[0;32m----> 1\u001b[0m \u001b[38;5;28;01mfrom\u001b[39;00m \u001b[38;5;21;01mgoogle\u001b[39;00m\u001b[38;5;21;01m.\u001b[39;00m\u001b[38;5;21;01mcolab\u001b[39;00m \u001b[38;5;28;01mimport\u001b[39;00m drive\n\u001b[1;32m      2\u001b[0m drive\u001b[38;5;241m.\u001b[39mmount(\u001b[38;5;124m'\u001b[39m\u001b[38;5;124m/content/drive\u001b[39m\u001b[38;5;124m'\u001b[39m)\n",
            "\u001b[0;31mModuleNotFoundError\u001b[0m: No module named 'google.colab'"
          ]
        }
      ],
      "source": [
        "from google.colab import drive\n",
        "drive.mount('/content/drive')"
      ]
    },
    {
      "cell_type": "code",
      "execution_count": null,
      "metadata": {
        "id": "Eu2HHpzdsFds"
      },
      "outputs": [],
      "source": [
        "import pandas as pd\n",
        "import matplotlib.pyplot as plt\n",
        "import seaborn as sns"
      ]
    },
    {
      "cell_type": "code",
      "execution_count": null,
      "metadata": {
        "id": "Zw00YsdithWn"
      },
      "outputs": [],
      "source": [
        "file_path = 'dataset/dataset_mood_smartphone.csv'\n",
        "save_path = 'dataset/dataset_mood_smartphone_reshape.csv'"
      ]
    },
    {
      "cell_type": "code",
      "execution_count": null,
      "metadata": {
        "id": "Hy-Pkyg_tci7"
      },
      "outputs": [],
      "source": [
        "continuous_variables = [\n",
        "    'circumplex.arousal',\n",
        "    'circumplex.valence',\n",
        "    'activity',\n",
        "    # 'screen',\n",
        "    # 'appCat.builtin',\n",
        "    # 'appCat.communication',\n",
        "    'appCat.entertainment',\n",
        "    # 'appCat.finance',\n",
        "    # 'appCat.game',\n",
        "    # 'appCat.office',\n",
        "    # 'appCat.other',\n",
        "    'appCat.social',\n",
        "    # 'appCat.travel',\n",
        "    # 'appCat.unknown',\n",
        "    'appCat.utilities',\n",
        "    'appCat.weather'\n",
        "]\n",
        "\n",
        "categorical_variables = ['call', 'sms']"
      ]
    },
    {
      "cell_type": "markdown",
      "metadata": {
        "id": "qhlH-ob4vlMI"
      },
      "source": [
        "#### 2. Reading and Preparing the Data"
      ]
    },
    {
      "cell_type": "code",
      "execution_count": null,
      "metadata": {
        "id": "jBvDKzoKv3Cr"
      },
      "outputs": [],
      "source": [
        "def read_csv(file_path):\n",
        "    data = pd.read_csv(file_path)\n",
        "    return data\n",
        "\n",
        "def time_to_datetime(data):\n",
        "    data['time'] = pd.to_datetime(data['time']).dt.date\n",
        "    return data\n",
        "\n",
        "def reshape_data_with_id(data):\n",
        "    # data = time_to_datetime(data)\n",
        "    df = pd.DataFrame(data)\n",
        "    # reshape the data\n",
        "    df_pivoted = df.pivot_table(index=['id', 'time'], columns='variable', values='value').reset_index()\n",
        "    return df_pivoted\n",
        "\n",
        "def reshape_data(data):\n",
        "    data = time_to_datetime(data)\n",
        "    df = pd.DataFrame(data)\n",
        "    # reshape the data\n",
        "    df_pivoted = df.pivot_table(index='time', columns='variable', values='value').reset_index()\n",
        "    return df_pivoted\n",
        "\n",
        "def calculate_daily_mood_mean(data):\n",
        "    df = pd.DataFrame(data)\n",
        "    daily_mood_mean = df.groupby(['id','time','variable'])['value'].mean().reset_index()\n",
        "    return daily_mood_mean\n",
        "\n",
        "def save_to_csv(data, file_path):\n",
        "    data.to_csv(file_path, index=False)"
      ]
    },
    {
      "cell_type": "code",
      "execution_count": null,
      "metadata": {
        "id": "Go7VbXLP0aMC"
      },
      "outputs": [],
      "source": [
        "# read data\n",
        "data = read_csv(file_path)\n",
        "# convert time to date\n",
        "data = time_to_datetime(data)\n",
        "# calculate daily average\n",
        "data = calculate_daily_mood_mean(data)\n",
        "\n",
        "\n",
        "# reshape data without id column\n",
        "data_without_id = reshape_data(data)\n",
        "# reshape data with id column\n",
        "data_with_id = reshape_data_with_id(data)\n",
        "\n",
        "# save the processed date\n",
        "save_to_csv(data_with_id, save_path)"
      ]
    },
    {
      "cell_type": "markdown",
      "metadata": {
        "id": "86baA6hPz5xi"
      },
      "source": [
        "#### 3. Data Analysis and Visualization"
      ]
    },
    {
      "cell_type": "markdown",
      "metadata": {
        "id": "_q2MNyaq3F_P"
      },
      "source": [
        "**Defining Functions**"
      ]
    },
    {
      "cell_type": "code",
      "execution_count": null,
      "metadata": {
        "id": "H6JkPxXUz8sX"
      },
      "outputs": [],
      "source": [
        "# Time Series Plot for mood over time\n",
        "def plot_time_series(data, x, y):\n",
        "    plt.figure(figsize=(15,5))\n",
        "    sns.lineplot(data=data, x=x, y=y)\n",
        "    plt.title('Mood Over Time')\n",
        "    plt.xlabel('Time')\n",
        "    plt.ylabel('Mood Score')\n",
        "    plt.xticks(rotation=45)  # Rotate the x-axis labels for better readability\n",
        "    plt.show()\n",
        "\n",
        "# Bar chart for mood vs. call\n",
        "def plot_bar_chart(data, x, y):\n",
        "    sns.barplot(data=data, x=x, y=y)\n",
        "    plt.title('Mood and Call Made')\n",
        "    plt.xlabel('Call Made (0 = No, 1 = Yes)')\n",
        "    plt.ylabel('Average Mood Score')\n",
        "    plt.show()\n",
        "\n",
        "# boxplot for classification variables\n",
        "def plot_boxplot(data):\n",
        "    fig, axes = plt.subplots(nrows=1, ncols=len(categorical_variables), figsize=(10, 5))\n",
        "\n",
        "    for i, var in enumerate(categorical_variables):\n",
        "        sns.boxplot(x=data[var], y=data['mood'], ax=axes[i])\n",
        "        axes[i].set_title(f'Mood by {var}')\n",
        "        axes[i].set_xlabel(var)\n",
        "        axes[i].set_ylabel('Mood')\n",
        "\n",
        "    plt.tight_layout()\n",
        "    plt.show()\n",
        "\n",
        "# scatter plot for continuous variables\n",
        "def plot_scatter(data):\n",
        "    for var in continuous_variables:\n",
        "        fig, ax1 = plt.subplots()\n",
        "\n",
        "        color = 'tab:red'\n",
        "        ax1.set_xlabel('time')\n",
        "        ax1.set_ylabel('mood', color=color)\n",
        "        ax1.plot(data['time'], data['mood'], color=color)\n",
        "        ax1.tick_params(axis='y', labelcolor=color)\n",
        "\n",
        "        ax2 = ax1.twinx()\n",
        "        color = 'tab:blue'\n",
        "        ax2.set_ylabel(var, color=color)\n",
        "        ax2.scatter(data['time'], data[var], color=color)\n",
        "        ax2.tick_params(axis='y', labelcolor=color)\n",
        "\n",
        "        fig.tight_layout()\n",
        "        plt.show()\n",
        "\n",
        "# heatmap for correlation matrix\n",
        "def plot_heatmap(data):\n",
        "    correlation_matrix = data[continuous_variables + ['mood']].corr()\n",
        "    sns.heatmap(correlation_matrix, annot=True)\n",
        "    plt.title('Correlation Matrix')\n",
        "    plt.figure(figsize=(16, 8))\n",
        "    plt.show()\n",
        "\n",
        "plot_scatter(data_without_id)\n",
        "plot_heatmap(data_with_id)"
      ]
    },
    {
      "cell_type": "markdown",
      "metadata": {
        "id": "9uznCwd-Pdpn"
      },
      "source": [
        "### TASK 1B: DATA CLEANING\n",
        "**In this step, we choose two approaches to impute missing values that are logical for such time series:**\n",
        "\n",
        "\n",
        "1.   Approach1(TODO)\n",
        "2.   Approach2(TODO)\n",
        "\n"
      ]
    },
    {
      "cell_type": "markdown",
      "metadata": {
        "id": "_Hq1GYdMY-WT"
      },
      "source": [
        "#### 1. Processing data to 3 time period"
      ]
    },
    {
      "cell_type": "code",
      "execution_count": null,
      "metadata": {
        "id": "n1XCuepaY-WT"
      },
      "outputs": [],
      "source": [
        "# Load the data from a CSV file\n",
        "data_resample = read_csv(file_path)\n",
        "\n",
        "# Convert the 'time' to datetime format and add a new column 'hour'\n",
        "data_resample['time'] = pd.to_datetime(data_resample['time'])\n",
        "data_resample['hour'] = data_resample['time'].dt.hour\n",
        "\n",
        "# Define the bins and labels for the time periods\n",
        "bins = [0, 8, 16, 24]\n",
        "labels = ['0-8', '8-16', '16-24']\n",
        "\n",
        "# Create a new column 'time_period' that categorizes 'hour' into different time periods\n",
        "data_resample['time_period'] = pd.cut(data_resample['hour'], bins=bins, labels=labels, right=False)\n",
        "\n",
        "# Convert the 'time' column to datetime format again to ensure it's in the correct format\n",
        "time_to_datetime(data_resample)\n",
        "\n",
        "# Group the data by 'id', 'time', 'time_period', and 'variable', and calculate the mean of 'value'\n",
        "data_grouped = data_resample.groupby(['id','time','time_period','variable'])['value'].mean().reset_index()\n",
        "\n",
        "# Reshape the data using pivot_table so that each 'variable' becomes a column\n",
        "data = data_grouped.pivot_table(index=['id', 'time','time_period'], columns='variable', values='value').reset_index()\n",
        "# print(data.head())\n",
        "\n",
        "# Save the reshaped data to a new CSV file\n",
        "save_to_csv(data, 'dataset/dataset_3_period.csv')"
      ]
    },
    {
      "cell_type": "markdown",
      "metadata": {
        "id": "2_TY2LBPY-WT"
      },
      "source": [
        "#### 2. Clean the rows only have call and sms"
      ]
    },
    {
      "cell_type": "code",
      "execution_count": null,
      "metadata": {
        "id": "QkYrvMpUQm_5"
      },
      "outputs": [],
      "source": [
        "# Define the columns to check\n",
        "columns_to_check = ['id', 'time', 'time_period','sms', 'call']\n",
        "\n",
        "# Create a mask where for each row, if 'id' and 'time' are not NA and either 'sms' or 'call' is not NA, the row is True\n",
        "mask = data[['id', 'time','time_period']].notna().all(axis=1) & data[['sms', 'call']].notna().any(axis=1)\n",
        "\n",
        "# Invert the mask, to get rows where either 'id', 'time' are NA or both 'sms' and 'call' are NA\n",
        "mask = ~mask\n",
        "\n",
        "# Apply the mask to the dataframe\n",
        "data = data[mask]\n",
        "\n",
        "# Save the result to a new csv\n",
        "data.to_csv('dataset/cleaned_data.csv', index=False)"
      ]
    },
    {
      "cell_type": "markdown",
      "metadata": {
        "id": "H-VBX0TKY-WT"
      },
      "source": [
        "#### 3. Observe that NA only happens on valence and arousal."
      ]
    },
    {
      "cell_type": "code",
      "execution_count": null,
      "metadata": {
        "id": "sz1J6vsQY-WT"
      },
      "outputs": [],
      "source": [
        "# read data from csv\n",
        "df = pd.read_csv('dataset/dataset_mood_smartphone.csv')\n",
        "# df = pd.read_csv('Assignment1/dataset/cleaned_data.csv')\n",
        "\n",
        "\n",
        "variables = df['variable'].unique()\n",
        "\n",
        "# boxplot for each attribute with all patients\n",
        "for var in variables:\n",
        "    plt.figure(figsize=(10, 6))\n",
        "\n",
        "    # create a subset of the current attribute\n",
        "    subset = df[df['variable'] == var]\n",
        "\n",
        "    # plot a boxplot, where id is on the x-axis and value is on the y-axis\n",
        "    sns.boxplot(x='id', y='value', data=subset, showfliers=True)\n",
        "\n",
        "    # set the title and labels\n",
        "    plt.title(f'Boxplot for Variable: {var}')\n",
        "    plt.xlabel('Patient ID')\n",
        "    plt.ylabel('Value')\n",
        "\n",
        "    # show the plot\n",
        "    plt.show()"
      ]
    },
    {
      "cell_type": "markdown",
      "metadata": {
        "id": "Xbku4XxmY-WU"
      },
      "source": []
    },
    {
      "cell_type": "markdown",
      "metadata": {
        "id": "nyfpbqa9QXU0"
      },
      "source": [
        "### TASK 1C: FEATURE ENGINEERING"
      ]
    },
    {
      "cell_type": "code",
      "execution_count": null,
      "metadata": {
        "id": "4zwgSnhPQn0i"
      },
      "outputs": [],
      "source": [
        "1111\n"
      ]
    }
  ],
  "metadata": {
    "colab": {
      "collapsed_sections": [
        "ijfpmpe_rObV",
        "5Dng2JQws6qJ",
        "LwxJ3RbqtBmJ",
        "qhlH-ob4vlMI",
        "9uznCwd-Pdpn",
        "nyfpbqa9QXU0"
      ],
      "provenance": []
    },
    "kernelspec": {
      "display_name": "Python 3",
      "name": "python3"
    },
    "language_info": {
      "codemirror_mode": {
        "name": "ipython",
        "version": 3
      },
      "file_extension": ".py",
      "mimetype": "text/x-python",
      "name": "python",
      "nbconvert_exporter": "python",
      "pygments_lexer": "ipython3",
      "version": "3.8.13"
    }
  },
  "nbformat": 4,
  "nbformat_minor": 0
}