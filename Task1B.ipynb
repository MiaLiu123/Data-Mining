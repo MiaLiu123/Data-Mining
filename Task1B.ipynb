{
  "nbformat": 4,
  "nbformat_minor": 0,
  "metadata": {
    "colab": {
      "provenance": [],
      "authorship_tag": "ABX9TyPrwBbd6zQLNeqHJ9XL1yL2",
      "include_colab_link": true
    },
    "kernelspec": {
      "name": "python3",
      "display_name": "Python 3"
    },
    "language_info": {
      "name": "python"
    }
  },
  "cells": [
    {
      "cell_type": "markdown",
      "metadata": {
        "id": "view-in-github",
        "colab_type": "text"
      },
      "source": [
        "<a href=\"https://colab.research.google.com/github/MiaLiu123/Data-Mining/blob/main/Task1B.ipynb\" target=\"_parent\"><img src=\"https://colab.research.google.com/assets/colab-badge.svg\" alt=\"Open In Colab\"/></a>"
      ]
    },
    {
      "cell_type": "markdown",
      "source": [
        "### Task 1B\n",
        "\n",
        "Observe that NA only happens on valence and arousal.\n"
      ],
      "metadata": {
        "id": "GF5TBTFFy-_3"
      }
    },
    {
      "cell_type": "code",
      "source": [
        "import pandas as pd\n",
        "import numpy as np\n",
        "import seaborn as sns\n",
        "import matplotlib.pyplot as plt\n",
        "\n",
        "\n",
        "# 读取CSV文件\n",
        "# df = pd.read_csv('dataset_mood_smartphone.csv')\n",
        "df = pd.read_csv('cleaned_data.csv')\n",
        "\n",
        "\n",
        "variables = df['variable'].unique()\n",
        "\n",
        "# 为每个属性绘制包含所有患者的箱型图\n",
        "for var in variables:\n",
        "    plt.figure(figsize=(10, 6))\n",
        "\n",
        "    # 创建当前属性的子集\n",
        "    subset = df[df['variable'] == var]\n",
        "\n",
        "    # 绘制箱型图，此处id作为x轴，value作为y轴\n",
        "    sns.boxplot(x='id', y='value', data=subset, showfliers=True)\n",
        "\n",
        "    # 设置图表标题和坐标轴标签\n",
        "    plt.title(f'Boxplot for Variable: {var}')\n",
        "    plt.xlabel('Patient ID')\n",
        "    plt.ylabel('Value')\n",
        "\n",
        "    # 显示图表\n",
        "    plt.show()"
      ],
      "metadata": {
        "id": "ysh3vKgtzCZa"
      },
      "execution_count": null,
      "outputs": []
    },
    {
      "cell_type": "markdown",
      "source": [
        "### Impute NA with 0.6*day mean + 0.4(4days mean)"
      ],
      "metadata": {
        "id": "nVw6UKhpxCbH"
      }
    },
    {
      "cell_type": "code",
      "source": [
        "import pandas as pd\n",
        "import numpy as np\n",
        "\n",
        "# 读取CSV文件\n",
        "df = pd.read_csv('dataset_mood_smartphone.csv')\n",
        "\n",
        "# 将时间列转换为pandas的datetime类型（如果尚未转换）\n",
        "df['time'] = pd.to_datetime(df['time'])\n",
        "\n",
        "# 确保数据按时间排序\n",
        "df.sort_values(by=['id', 'variable', 'time'], inplace=True)\n",
        "\n",
        "# 函数用于计算给定行的插值\n",
        "def calculate_interpolated_value(row, df):\n",
        "    # 只有当值是NA的时候才填充\n",
        "    if pd.isna(row['value']):\n",
        "        # 当日均值计算（只取当日的数据）\n",
        "        daily_values = df[(df['id'] == row['id']) & (df['variable'] == row['variable']) & (df['time'].dt.date == row['time'].date())]['value']\n",
        "        daily_mean = daily_values.mean()\n",
        "\n",
        "        # 邻近四天的相同时间段值（前后各两天，如果存在）\n",
        "        date_range = pd.date_range(start=row['time'].date() - pd.Timedelta(days=2), end=row['time'].date() + pd.Timedelta(days=2), freq='D').date\n",
        "        date_range = date_range[date_range != row['time'].date()]  # 去掉当日\n",
        "        adjacent_values = df[(df['id'] == row['id']) & (df['variable'] == row['variable']) & (df['time'].dt.date.isin(date_range)) & (df['time'].dt.time == row['time'].time())]['value']\n",
        "        adjacent_mean = adjacent_values.mean()\n",
        "\n",
        "        # 权重计算\n",
        "        if np.isnan(daily_mean) and np.isnan(adjacent_mean):\n",
        "            return np.nan  # 如果两个均值都是NaN，返回NaN\n",
        "        elif np.isnan(daily_mean):\n",
        "            return adjacent_mean  # 如果当日均值缺失，则只取邻近四天均值\n",
        "        elif np.isnan(adjacent_mean):\n",
        "            return daily_mean  # 如果邻近四天均值缺失，则只取当日均值\n",
        "        else:\n",
        "            # 结合两个均值填充NA值（60%当日均值和40%邻近四天均值）\n",
        "            return 0.6 * daily_mean + 0.4 * adjacent_mean\n",
        "    else:\n",
        "        return row['value']\n",
        "\n",
        "# 应用函数计算每一行可能的插值\n",
        "df['value'] = df.apply(lambda row: calculate_interpolated_value(row, df), axis=1)\n",
        "\n",
        "# 将处理后的DataFrame保存到新的CSV文件\n",
        "df.to_csv('processed_data.csv', index=False)\n"
      ],
      "metadata": {
        "id": "lEycaj5L0Owm"
      },
      "execution_count": null,
      "outputs": []
    },
    {
      "cell_type": "markdown",
      "source": [
        "### Clean outliers using Quartile"
      ],
      "metadata": {
        "id": "gqd4v5kuzCUU"
      }
    },
    {
      "cell_type": "code",
      "source": [
        "import pandas as pd\n",
        "\n",
        "# 读取CSV文件\n",
        "df = pd.read_csv('processed_data.csv')\n",
        "\n",
        "# 定义一个函数，用于去除分组中的异常值\n",
        "def remove_outliers(group):\n",
        "    Q1 = group['value'].quantile(0.25)\n",
        "    Q3 = group['value'].quantile(0.75)\n",
        "    IQR = Q3 - Q1\n",
        "    # 定义异常值范围\n",
        "    lower_bound = Q1 - 1.5 * IQR\n",
        "    upper_bound = Q3 + 1.5 * IQR\n",
        "    # 只保留非异常值\n",
        "    return group[(group['value'] >= lower_bound) & (group['value'] <= upper_bound)]\n",
        "\n",
        "# 应用分组和异常值移除\n",
        "cleaned_df = df.groupby(['id', 'variable']).apply(remove_outliers).reset_index(drop=True)\n",
        "\n",
        "# 保存清洗后的数据到新的CSV文件\n",
        "cleaned_df.to_csv('cleaned_data.csv', index=False)"
      ],
      "metadata": {
        "id": "5GUq3pU3zJVr"
      },
      "execution_count": null,
      "outputs": []
    },
    {
      "cell_type": "markdown",
      "source": [
        "### Calculate daily mean for each attribute of patients"
      ],
      "metadata": {
        "id": "EePmvhq617rC"
      }
    },
    {
      "cell_type": "code",
      "source": [
        "import pandas as pd\n",
        "\n",
        "# 读取CSV文件\n",
        "df = pd.read_csv('cleaned_data.csv', parse_dates=['time'])\n",
        "\n",
        "# 确保时间列是datetime类型\n",
        "df['time'] = pd.to_datetime(df['time'])\n",
        "\n",
        "# 提取日期部分作为一个新的列\n",
        "df['date'] = df['time'].dt.date\n",
        "\n",
        "# 按照id, variable和date分组，并计算每组的平均值\n",
        "grouped_df = df.groupby(['id', 'variable', 'date'])['value'].mean().reset_index()\n",
        "# 对variable为mood的值进行四舍五入\n",
        "grouped_df.loc[grouped_df['variable'] == 'mood', 'value'] = grouped_df['value'].round()\n",
        "\n",
        "\n",
        "# 保存到新的CSV文件\n",
        "grouped_df.to_csv('daily_averages.csv', index=False)"
      ],
      "metadata": {
        "id": "Q7rYVJSG5CYg"
      },
      "execution_count": 9,
      "outputs": []
    },
    {
      "cell_type": "markdown",
      "source": [
        "### Transpose data be like: id, time, attr1, attr2..."
      ],
      "metadata": {
        "id": "noidTZkS7_ON"
      }
    },
    {
      "cell_type": "code",
      "source": [
        "import pandas as pd\n",
        "\n",
        "# 读取CSV文件\n",
        "df = pd.read_csv('daily_averages.csv')\n",
        "\n",
        "# 确保时间列是datetime类型\n",
        "df['date'] = pd.to_datetime(df['date'])\n",
        "\n",
        "# 使用pivot_table来变换DataFrame\n",
        "pivot_df = df.pivot_table(\n",
        "    index=['id', 'date'],\n",
        "    columns='variable',\n",
        "    values='value',\n",
        "    aggfunc='first'  # 如果同一id、同一time和variable组合有多个值，取第一个\n",
        ").reset_index()\n",
        "\n",
        "# 将列名重命名，去除多级列名中的顶层\n",
        "pivot_df.columns.name = None  # 去除顶层列名\n",
        "pivot_df.columns = [str(col) for col in pivot_df.columns]\n",
        "\n",
        "# 保存到新的CSV文件\n",
        "pivot_df.to_csv('transposed_data.csv', index=False)"
      ],
      "metadata": {
        "id": "kiBswVN68IaQ"
      },
      "execution_count": 10,
      "outputs": []
    }
  ]
}